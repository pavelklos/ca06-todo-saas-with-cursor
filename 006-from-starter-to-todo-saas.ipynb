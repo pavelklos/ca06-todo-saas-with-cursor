{
 "cells": [
  {
   "cell_type": "markdown",
   "id": "6d697232-874e-47ca-9f82-b7d82e78d67a",
   "metadata": {},
   "source": [
    "# From Vercel Starter to a basic To-Do SaaS\n",
    "* We will start with the Vercel Template for SaaS.\n",
    "    * Home page.\n",
    "    * Pricing page.\n",
    "    * Dashboard page.\n",
    "    * Role-based access control.\n",
    "    * Ready for authentication.\n",
    "    * Ready for subscription management and payments with Stripe.\n",
    "    * [See demo of the starter template](https://next-saas-start.vercel.app/).\n",
    "    * We can use a Replit template or to download [the github repo](https://github.com/AI-LLM-Bootcamp/vercel-saas-template) and open it locally.\n",
    "* We will add Postgress with Neon.\n",
    "* We will add Stripe configuration."
   ]
  },
  {
   "cell_type": "markdown",
   "id": "9f1b9ba8-9ae6-4c8e-a15d-5b4db51f3d78",
   "metadata": {},
   "source": [
    "## Create a new Replit project from our Replit Template or download the project from the github repo\n",
    "We assume that you have seen our previous lectures about why use Replit and how to do it.\n",
    "* Click [here](https://replit.com/@Julio4AI/vercel-saas-template?v=1) to create your Repl using our Vercel SaaS Template for Replit.\n",
    "* Remember that later you will have to enter your own API keys opening the Secrets tab.\n",
    "\n",
    "#### We prefer the option of downloading the project from the github repo.\n",
    "After some experimentation, we prefer to take the option of downloading the project from the github repo and open it locally with Cursor. **You will see why this is a better option in the following lesson**.\n",
    "* [Here you have the github repo](https://github.com/AI-LLM-Bootcamp/vercel-saas-template)."
   ]
  },
  {
   "cell_type": "markdown",
   "id": "6c6eb883-f26e-4bae-8458-17eceb090dd9",
   "metadata": {},
   "source": [
    "## If you use the Replit option, open the Starter Template in Cursor.\n",
    "* Again, we assume that you have seen our previous lectures about why use Replit and how to do it.\n",
    "* After setting the initial Replit-Cursor connection, you will not need to do it again. Just do the following:\n",
    "    * Search for SSH in the tab search.\n",
    "    * Click on the \"Launch Cursor\" button.\n",
    "    * Cursor will open with the project folder you are in."
   ]
  },
  {
   "cell_type": "markdown",
   "id": "6f4273f8-13d0-4c6e-a34d-0fb45b185d91",
   "metadata": {},
   "source": [
    "## Install template dependencies\n",
    "* Open the terminal in Cursor.\n",
    "    * pnpm install\n",
    "* `pnpm install` is faster and saves disk space because it shares packages across projects instead of duplicating them, and it uses links to a global store. It also ensures stricter dependency management, avoiding issues where a project accidentally uses undeclared packages. On the other hand, `npm install` creates a full copy of all dependencies in each project, using more space but being simpler and more compatible with older setups. If you work on big projects or multiple projects, `pnpm` is more efficient; otherwise, `npm` works fine for simpler needs.\n",
    "#### If you do not have pnpm installed\n",
    "* In terminal:\n",
    "    * npm install -g pnpm "
   ]
  },
  {
   "cell_type": "markdown",
   "id": "c4c91dc5-8fe5-4932-a8ef-11a48f89b395",
   "metadata": {},
   "source": [
    "## Run the template setup\n",
    "* See available scripts in package.json\n",
    "* In the Cursor terminal, run the setup:\n",
    "    * pnpm db:setup\n",
    "* Follow the instructions to install the necessary packages. See the notes bellow to install Stripe CLI and to Postgres."
   ]
  },
  {
   "cell_type": "markdown",
   "id": "aede8e3b-c00c-425b-b866-c3eb178fde74",
   "metadata": {},
   "source": [
    "## Stripe CLI installation\n",
    "If the **Stripe CLI** (Command Line Interface), is not currently installed, follow these steps:\n",
    "\n",
    "1. **Install Stripe CLI**\n",
    "   - Visit the Stripe CLI installation guide: [https://docs.stripe.com/stripe-cli](https://docs.stripe.com/stripe-cli).\n",
    "   - Choose the installation instructions for your operating system:\n",
    "     - **macOS**: In your terminal, use Homebrew: `brew install stripe/stripe-cli/stripe`\n",
    "     - **Windows**: Download the `.exe` file or use a package manager like Scoop.\n",
    "     - **Linux**: Download the binary or use a package manager like APT, depending on your distribution.\n",
    "\n",
    "2. **Log in to Stripe**\n",
    "   After installing Stripe CLI, log in by running IN THE CURSOR TERMINAL:\n",
    "   ```\n",
    "   stripe login\n",
    "   ```\n",
    "   This will give you a URL to open a browser window to authenticate your Stripe account. Once logged in, your Stripe CLI will be ready to use.\n",
    "\n",
    "3. **Retry the Setup Script**\n",
    "   Go back to the terminal in Cursor and re-run:\n",
    "   ```\n",
    "   pnpm db:setup\n",
    "   ```\n",
    "\n",
    "If you continue facing issues, check the following:\n",
    "- Check if the `stripe` command is available by running `stripe --version` in the terminal."
   ]
  },
  {
   "cell_type": "markdown",
   "id": "6961f98e-a12c-4a4a-a13a-9c6b3cb75865",
   "metadata": {},
   "source": [
    "## Create a remote Postgres database in Neon\n",
    "* Go to [the Neon website](https://neon.tech/).\n",
    "* Create a free account.\n",
    "* Create a new project and a new database.\n",
    "    * select postgres 17.\n",
    "* select pooled connection (recommended for serverless and edge environments).\n",
    "\n",
    "A **pooled connection** is like a shortcut or efficient way for your application to connect to the database. Here's a simple explanation:\n",
    "\n",
    "1. **Normal Connections:** Normally, every time your application talks to the database, it has to create a new connection. This takes time and uses up resources on both your application and the database server.\n",
    "\n",
    "2. **Connection Pooling:** Instead of creating a new connection every time, a \"pool\" of reusable connections is created. When your app needs to talk to the database, it just grabs one of these pre-made connections from the pool. After it’s done, the connection is returned to the pool for reuse.\n",
    "\n",
    "3. **Why is it recommended for serverless/edge environments?**\n",
    "   - **Serverless environments (like Vercel or AWS Lambda):** These spin up new instances of your app frequently, often for every request. Without pooling, each instance would create and close database connections repeatedly, which can overwhelm the database.\n",
    "   - **Edge environments:** These are distributed globally and often handle many small, fast requests. Pooled connections make this more efficient because they reduce the time and resources needed to establish connections.\n",
    "\n",
    "By selecting the **pooled connection** option, your app uses a connection pooling service (usually managed by Neon) to handle connections more efficiently, especially when running in environments like serverless or edge computing setups.\n",
    "\n",
    "* After selecting the pooled connection option, copy the connection string.\n",
    "\n",
    "\n",
    "#### In the Cursor Terminal, respond question in setup process\n",
    "* Select Remote Postgres\n",
    "* POSTGRES_URL: paste the connection string."
   ]
  },
  {
   "cell_type": "markdown",
   "id": "fc6b5fbf-aadf-40b7-b4ee-d2d4e8c3a914",
   "metadata": {},
   "source": [
    "## Enter the Stripe key\n",
    "* Go to https://dashboard.stripe.com/test/apikeys\n",
    "* Make sure Test Mode is selected.\n",
    "* Click on the secret key to copy it.\n",
    "\n",
    "#### In the Cursor Terminal, respond question in setup process\n",
    "* Paste the Stripe secret key when propmted."
   ]
  },
  {
   "cell_type": "markdown",
   "id": "f858f192-9437-4889-afd9-96f11dc83f05",
   "metadata": {},
   "source": [
    "## See that the .env file has been created automatically in the setup process\n",
    "* There you will see your own secret keys.\n",
    "* Remember to exclude the .env file in .gitignore if you plan to load your project to a github repository."
   ]
  },
  {
   "cell_type": "markdown",
   "id": "17deee85-af5b-4385-b9be-03bebe28d7fb",
   "metadata": {},
   "source": [
    "## Now you can start the app locally\n",
    "* In the Cursor terminal, enter:\n",
    "    * pnpm dev\n",
    "* You can now check the app locally in localhost:3000"
   ]
  },
  {
   "cell_type": "markdown",
   "id": "ed4b7cb6-a244-4fc6-8d82-fe77f40609bb",
   "metadata": {},
   "source": [
    "## Connect Stripe to your local app\n",
    "You can listen for Stripe webhooks locally through their CLI to handle subscription change events:\n",
    "* open a second terminal in Cursor clicking on the + icon, and enter:\n",
    "    * stripe listen --forward-to localhost:3000/api/stripe/webhook\n",
    "* Check the api/stripe/webhook folder to see the route.ts file there with the default settings for stripe.\n",
    "* Make sure your app is running in localhost:3000, otherwise the previous command will not work.\n",
    "* Now you will see a message saying that Stripe is ready to go."
   ]
  },
  {
   "cell_type": "markdown",
   "id": "1dcc8a44-cccf-4f63-a88a-897ca57b3997",
   "metadata": {},
   "source": [
    "## Use db:migrate to create the tables in the Postgres database\n",
    "* Open a third terminal window in Cursor by clicking on the + icon again.\n",
    "* Run db migrations:\n",
    "    * pnpm db:migrate\n",
    "* You can see how this migration is configured by default in lib/db/migrations\n",
    "* If you check the database in Neon, now you can see the new tables created.\n",
    "\n",
    "#### Fill the database with the default test data:\n",
    "* In the Cursor terminal, enter:\n",
    "    * pnpm db:seed\n",
    "* This will create stripe products and prices, and a test user in the database, with the following user credentials:\n",
    "    * user: test@test.com\n",
    "    * password: admin123\n",
    "* If you look at the tables in Neon again, you will see the new test content created there.\n",
    "* You can now Sign In in the app using these credentials and see the dashboard for this user. \n",
    "* **If at some point you decide to move this project to production, remember to remove this test user**.\n",
    "* You can create additional users in the /sign-up page."
   ]
  },
  {
   "cell_type": "markdown",
   "id": "4fdfaeb7-704e-4602-a30c-3cce5d34ebf8",
   "metadata": {},
   "source": [
    "## How to customize the database migration if you want to do it later\n",
    "* You can use a new web tool called [database.build](https://database.build/) to visualize the default database schema by copying and pasting there the contents of the migration file in /lib/db/migrations and adding a prompt like:\n",
    "    * Create these tables.\n",
    "* You will be able to visualize the database schema. \n",
    "* From then on, you can use natural language to make changes in the database schema and then copy and paste the resulting code in the migration file, and then running the corresponding new migration from the terminal."
   ]
  },
  {
   "cell_type": "markdown",
   "id": "dc141dfd-8db5-4e7f-9ee6-3241a8da224e",
   "metadata": {},
   "source": [
    "## You can now go to the Pricing page and select to start one of the available packages.\n",
    "* You will see Stripe in test mode.\n",
    "* You can test Stripe with the test credit card\n",
    "    * your email\n",
    "    * 4242 4242 4242 4242\n",
    "    * 01/30 or any date in the future\n",
    "    * 999 or any three numbers\n",
    "    * TEST or any name\n",
    "    * United States or any country\n",
    "    * 12345 or any number for zip code\n",
    "* Click on Start Trial\n",
    "    * it will redirect you to the dashboard of the app, where you can see your subscription data."
   ]
  },
  {
   "cell_type": "markdown",
   "id": "1700d542-30cb-4fa0-8902-5fea3fde7a71",
   "metadata": {},
   "source": [
    "## Now we can start customizing this template."
   ]
  },
  {
   "cell_type": "markdown",
   "id": "1c42c4cf-e212-4590-99c8-dfb263ab630c",
   "metadata": {},
   "source": [
    "## Prepare the initial prompt for Cursor Composer\n",
    "* In Cursor:\n",
    "    * Command + Shift + I to open Composer.\n",
    "    * Copy and paste the following prompts."
   ]
  },
  {
   "cell_type": "markdown",
   "id": "56097744-e354-4f20-b020-107ad4a19410",
   "metadata": {},
   "source": [
    "#### We first experimented by asking all in one single prompt. It did not work well.\n",
    "* The result was extremely messy and with too many errors. It seemed a wrong way to us, so we decided to change the approach and try again with a slower process."
   ]
  },
  {
   "cell_type": "markdown",
   "id": "5cb8fde3-7d9d-4aa8-9023-fe561b4ac7e8",
   "metadata": {},
   "source": [
    "#### We then experimented with a few prompts to confirm that Cursor was getting familiar with the code.\n",
    "* We experimented with prompts like the following ones. This is probably not necessary, but we wanted to make sure Cursor understood the starting template."
   ]
  },
  {
   "cell_type": "markdown",
   "id": "eac7363e-4ef9-4d11-82e5-83fe83303714",
   "metadata": {},
   "source": [
    "Review this template to create SaaS apps and explain in simple terms how it is structured and what is does.\n",
    "\n",
    "@Codebase"
   ]
  },
  {
   "cell_type": "markdown",
   "id": "866458b1-291d-4457-adf6-f0e850a8cbee",
   "metadata": {},
   "source": [
    "Explain in simple terms the database schema."
   ]
  },
  {
   "cell_type": "markdown",
   "id": "a77773dc-dfe8-4fca-bff3-d903ba65acea",
   "metadata": {},
   "source": [
    "Explain in simple terms what database is the project using."
   ]
  },
  {
   "cell_type": "markdown",
   "id": "1b1652c8-c493-4547-beda-ab13124e5eee",
   "metadata": {},
   "source": [
    "Explain in simple terms how payments and subscriptions are managed."
   ]
  },
  {
   "cell_type": "markdown",
   "id": "b6f41945-1b30-4c1e-b1a7-adf54cfaf4b4",
   "metadata": {},
   "source": [
    "Explain in simple terms what are the current features of the Base and Plus plans."
   ]
  },
  {
   "cell_type": "markdown",
   "id": "cbb0e37a-8b88-4903-9022-0414ce02f4b0",
   "metadata": {},
   "source": [
    "#### We then asked Cursor to create a step by step plan using the following prompt. This worked well."
   ]
  },
  {
   "cell_type": "markdown",
   "id": "14dd8564-1c2c-4871-96da-1cd140787588",
   "metadata": {},
   "source": [
    "I want you to propose a step by step plan to add functionality to the Base plan. I do not want you to propose code changes yet, only a step by step plan so only once we have confirmed that one small achievable step works as expected we can proceed with the next small achievable step.\n",
    "\n",
    "The step by step plan I want you to create is in order to add to the Base plan subscribers the ability manage To-Do lists for a team so:\n",
    "* Subscribers with owner role can create a new to-do task.\n",
    "* Subscribers with owner or member role can see the list of to-do tasks.\n",
    "* Subscribers with owner or member role can update one particular to-do task.\n",
    "* Subscribers with owner or member role can delete one particular to-do task.\n",
    "\n",
    "Remember that the template is set-up with a existing configuration for Postgres. Implement all the functionality in the flow above while using the existing codebase as a starting point, but fully modify the codebase to fit the flow and functionality described above.\n",
    "\n",
    "I want you to propose a step by step plan so we can go to the next step once we have confirmed that the previous step works as expected.\n",
    "\n",
    "@Codebase"
   ]
  },
  {
   "cell_type": "markdown",
   "id": "be8c12f4-b45c-40d5-b5e1-40c1cd58c9bc",
   "metadata": {},
   "source": [
    "# See the response of Cursor below\n",
    "\n",
    "#### Plan: Adding Team To-Do List Functionality to Base Plan\n",
    "\n",
    "#### Phase 1: Database Setup\n",
    "1. Create a new migration file (`0001_add_todo_tasks.sql`) to add the `todo_tasks` table with:\n",
    "   - `id` (serial, primary key)\n",
    "   - `team_id` (foreign key to teams)\n",
    "   - `title` (varchar(255))\n",
    "   - `description` (text, nullable)\n",
    "   - `status` (varchar(20), default 'pending')\n",
    "   - `created_by` (foreign key to users)\n",
    "   - `created_at` (timestamp, default now())\n",
    "   - `updated_at` (timestamp, default now())\n",
    "\n",
    "2. Update `schema.ts` to:\n",
    "   - Add TodoTask type and schema\n",
    "   - Add relations to Team and User types\n",
    "   - Add necessary type exports\n",
    "\n",
    "#### Phase 2: Backend API Setup\n",
    "3. Add database queries in `lib/db/queries.ts`:\n",
    "   - `createTodoTask`\n",
    "   - `getTodoTasksForTeam`\n",
    "   - `updateTodoTask`\n",
    "   - `deleteTodoTask`\n",
    "\n",
    "4. Update ActivityType enum in `schema.ts`:\n",
    "   - Add `CREATE_TODO`\n",
    "   - Add `UPDATE_TODO`\n",
    "   - Add `DELETE_TODO`\n",
    "\n",
    "#### Phase 3: Frontend - Task List View\n",
    "5. Create basic task list UI:\n",
    "   - Add new \"Tasks\" section in dashboard\n",
    "   - Create table/list view component\n",
    "   - Add loading and empty states\n",
    "\n",
    "6. Implement task fetching:\n",
    "   - Add server-side data fetching\n",
    "   - Display tasks in the UI\n",
    "   - Add error handling\n",
    "\n",
    "#### Phase 4: Frontend - Task Creation\n",
    "7. Create \"New Task\" functionality:\n",
    "   - Create form component with validation\n",
    "   - Implement create task action\n",
    "   - Add success/error states\n",
    "   - Add role-based visibility\n",
    "\n",
    "#### Phase 5: Frontend - Task Management\n",
    "8. Implement task updates:\n",
    "   - Add edit functionality\n",
    "   - Create update form/modal\n",
    "   - Add validation\n",
    "   - Add role-based permissions\n",
    "\n",
    "9. Implement task deletion:\n",
    "   - Add delete confirmation dialog\n",
    "   - Create delete action\n",
    "   - Add success/error states\n",
    "   - Add role-based permissions\n",
    "\n",
    "#### Phase 6: Access Control\n",
    "10. Implement role-based access:\n",
    "    - Modify UI components based on user role\n",
    "    - Add server-side validation\n",
    "    - Test all operations with different roles\n",
    "\n",
    "#### Phase 7: Testing & Refinement\n",
    "11. Test the complete flow:\n",
    "    - Verify CRUD operations\n",
    "    - Test role-based access\n",
    "    - Check activity logging\n",
    "    - Verify error handling\n",
    "    - Test with multiple team members"
   ]
  },
  {
   "cell_type": "markdown",
   "id": "9bd19668-30e8-4765-941a-0b82c2b8ec8c",
   "metadata": {},
   "source": [
    "## We then asked Cursor to complete one phase at a time"
   ]
  },
  {
   "cell_type": "markdown",
   "id": "c74cf86c-0e95-47fc-9110-69fd46e62db1",
   "metadata": {},
   "source": [
    "## After Cursor completed each phase, we asked him to confirm that all tasks were complete with this prompt\n",
    "Please confirm that all tasks of phase X are completed:\n",
    "* Here we copied the list of tasks included in the phase."
   ]
  },
  {
   "cell_type": "markdown",
   "id": "e28e13df-9e26-4cb6-adce-e69b3a3ff8fe",
   "metadata": {},
   "source": [
    "**The previous prompt worked well, since in some occassions Cursor was able to identify tasks that were not fully completed**."
   ]
  },
  {
   "cell_type": "markdown",
   "id": "430c03ad-47d2-40d7-b7e9-993586a832c0",
   "metadata": {},
   "source": [
    "## Final notes after completing the project\n",
    "* **The completion of this project has taken a few hours**. Too long to include the whole video in the bootcamp.\n",
    "* **Working with a Replit project was too slow**. When we created the project in our hard disk Cursor was much faster. Right now, working with Replit+Cursor does not seem a good idea except when working with very small projects. \n",
    "* Even after breaking the process into small phases, the final result was full of errors and **we needed a lots of iterations with Cursor** to solve them.\n",
    "* **Providing screenshots of the errors was very useful**. Remember to open the Developers Tool in Chrome.\n",
    "* At one point, Cursor got stuck and told us it was due to a problem with Anthropic (the provider of Claude 3.5 Sonnet, the default LLM model used by Cursor). **After a few experiments, we discovered that this was not true**. The roadblock was solved by reseting Composer, then it all worked fine again.\n",
    "* After many iterations, and when we were thinking on throwing out the towel, **Cursor was finally able to solve the errors** and we finally got a decent first result. Lesson learned: if you are persistent and have patience, Cursor finally delivers. It took something like 50 Cursor Credits -what Cursor calls \"[requests](https://www.cursor.com/settings)\"- to solve the project.\n",
    "* **We saw that some parts of the Vercel template are incomplete**, like the \"invite a team member\" feature. Cursor proposed a plan to fix it, but we decided to not pursue it for this exercise."
   ]
  },
  {
   "cell_type": "markdown",
   "id": "d5533ecb-9a9f-4b16-813a-9f3880e0b67c",
   "metadata": {},
   "source": [
    "## The stack Cursor has used\n",
    "* We purposedly did not specify a stack of tools to use to see how Cursor will work. These is the stack Cursor used: \n",
    "\n",
    "#### Frontend\n",
    "- **Framework**: [Next.js](https://nextjs.org/) - A React framework for building server-side rendered and static web applications.\n",
    "- **UI Library**: [shadcn/ui](https://ui.shadcn.com/) - A component library for building user interfaces.\n",
    "- **Styling**: [Tailwind CSS](https://tailwindcss.com/) - A utility-first CSS framework for styling the application.\n",
    "\n",
    "#### Backend\n",
    "- **Database**: [Postgres](https://www.postgresql.org/) - A powerful, open-source relational database system.\n",
    "- **ORM**: [Drizzle ORM](https://orm.drizzle.team/) - An ORM for interacting with the Postgres database.\n",
    "- **Authentication**: Uses JWTs (JSON Web Tokens) stored in cookies for user authentication.\n",
    "\n",
    "#### Payments\n",
    "- **Stripe**: [Stripe](https://stripe.com/) - A payment processing platform used for handling payments and subscriptions.\n",
    "\n",
    "#### Development Tools\n",
    "- **TypeScript**: A strongly typed programming language that builds on JavaScript, used throughout the project.\n",
    "- **pnpm**: A fast, disk space-efficient package manager for JavaScript.\n",
    "\n",
    "#### Other\n",
    "- **Environment Management**: Uses `.env` files for managing environment variables.\n",
    "- **Deployment**: The project is set up to be deployed on [Vercel](https://vercel.com/), a platform for frontend frameworks and static sites."
   ]
  },
  {
   "cell_type": "markdown",
   "id": "e8704e50-a0ec-4944-9c38-27ab890fd38e",
   "metadata": {},
   "source": [
    "## About the Drizzle ORM\n",
    "Drizzle ORM is a modern **TypeScript-first ORM (Object-Relational Mapping)** designed for **Node.js**, focusing on **type-safety, performance, and developer experience**. It is built to integrate seamlessly with modern web development frameworks like **Next.js** and aims to simplify database interactions by providing a clean and intuitive API.\n",
    "\n",
    "### Key Features of Drizzle ORM:\n",
    "1. **TypeScript-first Approach**:\n",
    "   - Offers **strong type safety**, ensuring compile-time checks for database queries.\n",
    "   - Allows for easy detection of errors before running code, reducing runtime issues.\n",
    "\n",
    "2. **Schema Definition in Code**:\n",
    "   - Database schemas are defined using **TypeScript**, eliminating the need for external migration files or schema definition languages.\n",
    "   - The schema becomes part of your application's codebase, making it easier to maintain and evolve.\n",
    "\n",
    "3. **Compatibility**:\n",
    "   - Works with various SQL databases like **PostgreSQL, MySQL, SQLite**, and potentially others.\n",
    "   - Can also integrate with databases like Planetscale (a serverless database solution).\n",
    "\n",
    "4. **Focus on Performance**:\n",
    "   - Designed to be lightweight and fast, avoiding unnecessary overhead.\n",
    "   - Queries are optimized to minimize database load.\n",
    "\n",
    "5. **Simple API**:\n",
    "   - Intuitive methods for performing CRUD (Create, Read, Update, Delete) operations.\n",
    "   - Support for complex queries, joins, and advanced database operations.\n",
    "\n",
    "6. **Migrations**:\n",
    "   - Provides tools for handling database schema migrations within the application, making version control and deployment more straightforward.\n",
    "\n",
    "7. **Modern Development Workflows**:\n",
    "   - Works well in serverless environments.\n",
    "   - Ideal for modern applications built with **Next.js, Vercel, or other serverless platforms**.\n",
    "\n",
    "### Why Choose Drizzle ORM?\n",
    "- **Type Safety**: Avoids common pitfalls in database interactions by leveraging TypeScript’s powerful typing system.\n",
    "- **Ease of Use**: Designed for developers who want simplicity and performance without sacrificing functionality.\n",
    "- **Modern Ecosystem**: Aims to integrate with modern frameworks and tools for web and serverless application development.\n",
    "\n",
    "If you're building a TypeScript-heavy application and want a lightweight ORM that's built for the modern development stack, Drizzle ORM is a great choice."
   ]
  },
  {
   "cell_type": "markdown",
   "id": "23bb2b3e-5255-40ff-b0b7-cf4e89c48fb5",
   "metadata": {},
   "source": [
    "## About how we are using Drizzle ORM in this Project\n",
    "\n",
    "#### Overview\n",
    "Drizzle ORM is used in this project to interact with a Postgres database. It simplifies database operations by allowing developers to work with database records as if they were regular JavaScript objects.\n",
    "\n",
    "#### Key Components\n",
    "\n",
    "1. **Schema Definition**:\n",
    "   - The database schema is defined in TypeScript files using Drizzle's `pgTable` function. This includes tables like `users`, `teams`, `teamMembers`, etc.\n",
    "   - Each table is defined with its columns and their types, constraints, and relationships.\n",
    "\n",
    "2. **Database Connection**:\n",
    "   - The connection to the Postgres database is established using the `postgres` library, and Drizzle ORM is initialized with this connection.\n",
    "   - The connection string is retrieved from environment variables, ensuring secure and flexible configuration.\n",
    "\n",
    "3. **CRUD Operations**:\n",
    "   - Drizzle ORM provides methods to perform Create, Read, Update, and Delete (CRUD) operations on the database.\n",
    "   - For example, functions like `getUser`, `createTodoTask`, and `updateTeamSubscription` use Drizzle ORM to interact with the database.\n",
    "\n",
    "4. **Query Building**:\n",
    "   - Drizzle ORM allows building complex queries using a fluent API. This includes filtering, joining tables, and ordering results.\n",
    "   - Queries are constructed using methods like `select`, `insert`, `update`, and `delete`, combined with conditions using `eq`, `and`, and `desc`.\n",
    "\n",
    "5. **Type Safety**:\n",
    "   - Since the schema is defined in TypeScript, Drizzle ORM provides type safety, ensuring that database operations are checked at compile time for correctness.\n",
    "\n",
    "6. **Migrations**:\n",
    "   - Drizzle ORM supports database migrations, which are managed in the `lib/db/migrations` directory. This allows for version-controlled changes to the database schema.\n",
    "\n",
    "#### Example Usage\n",
    "\n",
    "Here's a simple example of how a query might be constructed using Drizzle ORM:"
   ]
  },
  {
   "cell_type": "code",
   "execution_count": null,
   "id": "3024db20-956a-4ae9-bd20-302bf135cf5c",
   "metadata": {},
   "outputs": [],
   "source": [
    "typescript\n",
    "const user = await db\n",
    ".select()\n",
    ".from(users)\n",
    ".where(eq(users.id, userId))\n",
    ".limit(1);"
   ]
  },
  {
   "cell_type": "markdown",
   "id": "9a0b37ca-354c-40e9-96fb-f873005321c4",
   "metadata": {},
   "source": [
    "In the previous example, Drizzle ORM is used to select a user from the `users` table where the `id` matches a given `userId`.\n",
    "\n",
    "Overall, Drizzle ORM helps streamline database interactions in this project by providing a clean and type-safe interface for working with Postgres."
   ]
  },
  {
   "cell_type": "markdown",
   "id": "99818f3a-888b-4f09-baf0-afb274091d86",
   "metadata": {},
   "source": [
    "## The Drizzle ORM vs. other backend frameworks we used previously like FastAPI\n",
    "Drizzle ORM and FastAPI share some commonalities but differ fundamentally in purpose, ecosystem, and functionality. Here's a breakdown of their similarities and differences:\n",
    "\n",
    "#### **Similarities**\n",
    "\n",
    "1. **Developer Experience**:  \n",
    "   Both tools emphasize simplicity and an intuitive API to improve productivity and reduce boilerplate. They aim to streamline workflows for developers.\n",
    "\n",
    "2. **Type-Safety**:  \n",
    "   Drizzle ORM uses TypeScript for type-safe database interactions, while FastAPI leverages Python type hints to ensure type safety in request handling and data validation.\n",
    "\n",
    "3. **Modern Ecosystem**:  \n",
    "   Drizzle ORM is designed for modern JavaScript/TypeScript frameworks, such as Next.js and serverless platforms. Similarly, FastAPI is a modern Python framework often used for APIs and microservices.\n",
    "\n",
    "4. **Performance**:  \n",
    "   Drizzle ORM optimizes database queries to minimize overhead, while FastAPI takes advantage of Python's asynchronous capabilities (using ASGI) for high-throughput API handling.\n",
    "\n",
    "5. **Integration with Databases**:  \n",
    "   Both tools support integration with databases, but Drizzle ORM manages databases directly, while FastAPI relies on external ORMs or database libraries for handling database operations.\n",
    "\n",
    "#### **Differences**\n",
    "\n",
    "- **Purpose**:  \n",
    "  Drizzle ORM is a database-focused tool for managing schema definitions, queries, and migrations in a TypeScript-first way. On the other hand, FastAPI is a Python framework tailored for building APIs and web services.\n",
    "\n",
    "- **Ecosystem**:  \n",
    "  Drizzle ORM is part of the JavaScript/TypeScript ecosystem, commonly used with tools like Node.js, Next.js, and serverless platforms like Vercel. FastAPI belongs to the Python ecosystem and is widely used for API development, data processing, and machine learning workflows.\n",
    "\n",
    "- **Core Functionality**:  \n",
    "  Drizzle ORM simplifies database interactions, offering a clean API for schema management, CRUD operations, and migrations. FastAPI, however, focuses on API routing, request validation, and response handling, making it a powerful tool for backend services.\n",
    "\n",
    "- **Language**:  \n",
    "  Drizzle ORM is built with TypeScript/JavaScript, making it ideal for developers in the Node.js ecosystem. FastAPI, being Python-based, is a natural choice for Python developers.\n",
    "\n",
    "- **Focus**:  \n",
    "  Drizzle ORM is specialized in database operations and schema management, whereas FastAPI is designed for API-driven applications.\n",
    "\n",
    "- **Asynchronous Support**:  \n",
    "  Drizzle ORM relies on Node.js for asynchronous operations. FastAPI is built natively with Python's async/await capabilities, making it highly efficient for concurrent tasks.\n",
    "\n",
    "- **Database Management**:  \n",
    "  Drizzle ORM provides its own mechanism for interacting with databases, such as SQL schema definitions and migrations. FastAPI depends on external ORMs like SQLAlchemy or Tortoise ORM to manage database interactions.\n",
    "\n",
    "#### **When to Use Each**\n",
    "\n",
    "- Use **Drizzle ORM** if you are working within a JavaScript/TypeScript ecosystem and need a type-safe, efficient way to handle database operations. It is particularly useful for modern, serverless applications or frameworks like Next.js.\n",
    "\n",
    "- Use **FastAPI** if you are developing APIs in Python, especially if the project involves asynchronous workflows, data validation, or backend services for machine learning or data-intensive applications."
   ]
  },
  {
   "cell_type": "markdown",
   "id": "b79b1e14-bbd8-41da-842e-ed7f1e09b8e2",
   "metadata": {},
   "source": [
    "## How to use the template for github"
   ]
  },
  {
   "cell_type": "markdown",
   "id": "3cb4641b-8eb2-4741-beca-e80055742fce",
   "metadata": {},
   "source": [
    "* [Download the project from github](https://github.com/AI-LLM-Bootcamp/from-saas-starter-to-crud).\n",
    "* Open the project folder in your computer with Cursor.\n",
    "* In the Cursor terminal, enter:\n",
    "    * pnpm db:setup to create your .env file with your confidential information for:\n",
    "    * POSTGRES_URL=xxx\n",
    "    * STRIPE_SECRET_KEY=xxx\n",
    "    * STRIPE_WEBHOOK_SECRET=xxx\n",
    "    * BASE_URL=http://localhost:3000\n",
    "    * AUTH_SECRET=xxx\n",
    "* Once you have the .env file ready, to run the database migrations and seed the database with a default user and team, in the cursor terminal enter:\n",
    "    * pnpm db:migrate\n",
    "    * pnpm db:seed\n",
    "* This will create the test@test.com user with the password admin123.\n",
    "* To open the app in your browser, in the Cursor terminal enter:\n",
    "    * pnpm dev\n",
    "* Go to [http://localhost:3000/](http://localhost:3000/) to open the app in your browser.\n",
    "* Sign in with the test user to check the app.\n",
    "* Follow rest of the instructions you will find at the bottom of the [github repo](https://github.com/AI-LLM-Bootcamp/from-saas-starter-to-crud) to listen to for Stripe webhooks locally, test payments, etc."
   ]
  },
  {
   "cell_type": "code",
   "execution_count": null,
   "id": "ed09992f-1733-4765-87e5-8c9718be9429",
   "metadata": {},
   "outputs": [],
   "source": []
  }
 ],
 "metadata": {
  "kernelspec": {
   "display_name": "Python 3 (ipykernel)",
   "language": "python",
   "name": "python3"
  },
  "language_info": {
   "codemirror_mode": {
    "name": "ipython",
    "version": 3
   },
   "file_extension": ".py",
   "mimetype": "text/x-python",
   "name": "python",
   "nbconvert_exporter": "python",
   "pygments_lexer": "ipython3",
   "version": "3.12.5"
  }
 },
 "nbformat": 4,
 "nbformat_minor": 5
}
