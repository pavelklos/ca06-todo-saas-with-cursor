{
 "cells": [
  {
   "cell_type": "markdown",
   "id": "6d697232-874e-47ca-9f82-b7d82e78d67a",
   "metadata": {},
   "source": [
    "# Setting the Vercel Starter Template to create a Basic SaaS\n",
    "* We will start with the Vercel Template for SaaS.\n",
    "    * Home page.\n",
    "    * Pricing page.\n",
    "    * Dashboard page.\n",
    "    * Role-based access control.\n",
    "    * Ready for authentication.\n",
    "    * Ready for subscription management and payments with Stripe.\n",
    "    * [See demo of the starter template](https://next-saas-start.vercel.app/).\n",
    "    * We can use a Replit template or to download [the github repo](https://github.com/AI-LLM-Bootcamp/vercel-saas-template) and open it locally.\n",
    "* We will add Postgress with Neon.\n",
    "* We will add Stripe configuration."
   ]
  },
  {
   "cell_type": "markdown",
   "id": "9f1b9ba8-9ae6-4c8e-a15d-5b4db51f3d78",
   "metadata": {},
   "source": [
    "## Create a new Replit project from our Replit Template or download the project from the github repo\n",
    "We assume that you have seen our previous lectures about why use Replit and how to do it.\n",
    "* Click [here](https://replit.com/@Julio4AI/vercel-saas-template?v=1) to create your Repl using our Vercel SaaS Template for Replit.\n",
    "* Remember that later you will have to enter your own API keys opening the Secrets tab.\n",
    "\n",
    "#### We prefer the option of downloading the project from the github repo.\n",
    "After some experimentation, we prefer to take the option of downloading the project from the github repo and open it locally with Cursor. **You will see why this is a better option in the following lesson**.\n",
    "* [Here you have the github repo](https://github.com/AI-LLM-Bootcamp/vercel-saas-template)."
   ]
  },
  {
   "cell_type": "markdown",
   "id": "6c6eb883-f26e-4bae-8458-17eceb090dd9",
   "metadata": {},
   "source": [
    "## If you use the Replit option, open the Starter Template in Cursor.\n",
    "* Again, we assume that you have seen our previous lectures about why use Replit and how to do it.\n",
    "* After setting the initial Replit-Cursor connection, you will not need to do it again. Just do the following:\n",
    "    * Search for SSH in the tab search.\n",
    "    * Click on the \"Launch Cursor\" button.\n",
    "    * Cursor will open with the project folder you are in."
   ]
  },
  {
   "cell_type": "markdown",
   "id": "6f4273f8-13d0-4c6e-a34d-0fb45b185d91",
   "metadata": {},
   "source": [
    "## Install template dependencies\n",
    "* Open the terminal in Cursor.\n",
    "    * pnpm install\n",
    "* `pnpm install` is faster and saves disk space because it shares packages across projects instead of duplicating them, and it uses links to a global store. It also ensures stricter dependency management, avoiding issues where a project accidentally uses undeclared packages. On the other hand, `npm install` creates a full copy of all dependencies in each project, using more space but being simpler and more compatible with older setups. If you work on big projects or multiple projects, `pnpm` is more efficient; otherwise, `npm` works fine for simpler needs. "
   ]
  },
  {
   "cell_type": "markdown",
   "id": "c4c91dc5-8fe5-4932-a8ef-11a48f89b395",
   "metadata": {},
   "source": [
    "## Run the template setup\n",
    "* See available scripts in package.json\n",
    "* In the Cursor terminal, run the setup:\n",
    "    * pnpm db:setup\n",
    "* Follow the instructions to install the necessary packages. See the notes bellow to install Stripe CLI and to Postgres."
   ]
  },
  {
   "cell_type": "markdown",
   "id": "aede8e3b-c00c-425b-b866-c3eb178fde74",
   "metadata": {},
   "source": [
    "## Stripe CLI installation\n",
    "If the **Stripe CLI** (Command Line Interface), is not currently installed, follow these steps:\n",
    "\n",
    "1. **Install Stripe CLI**\n",
    "   - Visit the Stripe CLI installation guide: [https://docs.stripe.com/stripe-cli](https://docs.stripe.com/stripe-cli).\n",
    "   - Choose the installation instructions for your operating system:\n",
    "     - **macOS**: In your terminal, use Homebrew: `brew install stripe/stripe-cli/stripe`\n",
    "     - **Windows**: Download the `.exe` file or use a package manager like Scoop.\n",
    "     - **Linux**: Download the binary or use a package manager like APT, depending on your distribution.\n",
    "\n",
    "2. **Log in to Stripe**\n",
    "   After installing Stripe CLI, log in by running IN THE CURSOR TERMINAL:\n",
    "   ```\n",
    "   stripe login\n",
    "   ```\n",
    "   This will give you a URL to open a browser window to authenticate your Stripe account. Once logged in, your Stripe CLI will be ready to use.\n",
    "\n",
    "* If you see a message like:\n",
    "stripe: command not installed, but was located via Nix. Would you like to run stripe from Nix and add it to your replit.nix file?\n",
    "    * Answer Y\n",
    "    * Nix is a package manager used to handle dependencies in environments like Replit.\n",
    "\n",
    "3. **Retry the Setup Script**\n",
    "   Go back to the terminal in Cursor and re-run:\n",
    "   ```\n",
    "   pnpm db:setup\n",
    "   ```\n",
    "\n",
    "If you continue facing issues, check the following:\n",
    "- Check if the `stripe` command is available by running `stripe --version` in the terminal."
   ]
  },
  {
   "cell_type": "markdown",
   "id": "6961f98e-a12c-4a4a-a13a-9c6b3cb75865",
   "metadata": {},
   "source": [
    "## Create a remote Postgres database in Neon\n",
    "* Go to [the Neon website](https://neon.tech/).\n",
    "* Create a free account.\n",
    "* Create a new project and a new database.\n",
    "    * select postgres 17.\n",
    "* Go to dashboard and select pooled connection (recommended for serverless and edge environments).\n",
    "\n",
    "A **pooled connection** is like a shortcut or efficient way for your application to connect to the database. Here's a simple explanation:\n",
    "\n",
    "1. **Normal Connections:** Normally, every time your application talks to the database, it has to create a new connection. This takes time and uses up resources on both your application and the database server.\n",
    "\n",
    "2. **Connection Pooling:** Instead of creating a new connection every time, a \"pool\" of reusable connections is created. When your app needs to talk to the database, it just grabs one of these pre-made connections from the pool. After it’s done, the connection is returned to the pool for reuse.\n",
    "\n",
    "3. **Why is it recommended for serverless/edge environments?**\n",
    "   - **Serverless environments (like Vercel or AWS Lambda):** These spin up new instances of your app frequently, often for every request. Without pooling, each instance would create and close database connections repeatedly, which can overwhelm the database.\n",
    "   - **Edge environments:** These are distributed globally and often handle many small, fast requests. Pooled connections make this more efficient because they reduce the time and resources needed to establish connections.\n",
    "\n",
    "By selecting the **pooled connection** option, your app uses a connection pooling service (usually managed by Neon) to handle connections more efficiently, especially when running in environments like serverless or edge computing setups.\n",
    "\n",
    "* After selecting the pooled connection option, copy the connection string.\n",
    "\n",
    "\n",
    "#### In the Cursor Terminal, respond question in setup process\n",
    "* Select Remote Postgres\n",
    "* POSTGRES_URL: paste the connection string."
   ]
  },
  {
   "cell_type": "markdown",
   "id": "fc6b5fbf-aadf-40b7-b4ee-d2d4e8c3a914",
   "metadata": {},
   "source": [
    "## Enter the Stripe key\n",
    "* Go to https://dashboard.stripe.com/test/apikeys\n",
    "* Make sure Test Mode is selected.\n",
    "* Click on the secret key to copy it.\n",
    "\n",
    "#### In the Cursor Terminal, respond question in setup process\n",
    "* Paste the Stripe secret key when propmted."
   ]
  },
  {
   "cell_type": "markdown",
   "id": "f858f192-9437-4889-afd9-96f11dc83f05",
   "metadata": {},
   "source": [
    "## See that the .env file has been created automatically in the setup process\n",
    "* There you will see your own secret keys.\n",
    "* Remember to exclude the .env file in .gitignore if you plan to load your project to a github repository."
   ]
  },
  {
   "cell_type": "markdown",
   "id": "17deee85-af5b-4385-b9be-03bebe28d7fb",
   "metadata": {},
   "source": [
    "## Now you can start the app locally\n",
    "* In the Cursor terminal, enter:\n",
    "    * pnpm dev\n",
    "* You can now check the app locally in localhost:3000"
   ]
  },
  {
   "cell_type": "markdown",
   "id": "ed4b7cb6-a244-4fc6-8d82-fe77f40609bb",
   "metadata": {},
   "source": [
    "## Connect Stripe to your local app\n",
    "You can listen for Stripe webhooks locally through their CLI to handle subscription change events:\n",
    "* open a second terminal in Cursor clicking on the + icon, and enter:\n",
    "    * stripe listen --forward-to localhost:3000/api/stripe/webhook\n",
    "* Check the api/stripe/webhook folder to see the route.ts file there with the default settings for stripe.\n",
    "* Make sure your app is running in localhost:3000, otherwise the previous command will not work.\n",
    "* If you see a message like:\n",
    "    * stripe: command not installed, but was located via Nix. Would you like to run stripe from Nix and add it to your replit.nix file?\n",
    "    * Answer Y\n",
    "    * Nix is a package manager used to handle dependencies in environments like Replit.\n",
    "* Now you will see a message saying that Stripe is ready to go."
   ]
  },
  {
   "cell_type": "markdown",
   "id": "1dcc8a44-cccf-4f63-a88a-897ca57b3997",
   "metadata": {},
   "source": [
    "## Use db:migrate to create the tables in the Postgres database\n",
    "* Open a third terminal window in Cursor by clicking on the + icon again.\n",
    "* Run db migrations:\n",
    "    * pnpm db:migrate\n",
    "* You can see how this migration is configured by default in lib/db/migrations\n",
    "* If you check the database in Neon, now you can see the new tables created.\n",
    "\n",
    "#### Fill the database with the default test data:\n",
    "* In the Cursor terminal, enter:\n",
    "    * pnpm db:seed\n",
    "* This will create stripe products and prices, and a test user in the database, with the following user credentials:\n",
    "    * user: test@test.com\n",
    "    * password: admin123\n",
    "* If you look at the tables in Neon again, you will see the new test content created there.\n",
    "* You can now Sign In in the app using these credentials and see the dashboard for this user. \n",
    "* **If at some point you decide to move this project to production, remember to remove this test user**.\n",
    "* You can create additional users in the /sign-up page."
   ]
  },
  {
   "cell_type": "markdown",
   "id": "4fdfaeb7-704e-4602-a30c-3cce5d34ebf8",
   "metadata": {},
   "source": [
    "## How to customize the database migration if you want to do it later\n",
    "* You can use a new web tool called [database.build](https://database.build/) to visualize the default database schema by copying and pasting there the contents of the migration file in /lib/db/migrations and adding a prompt like:\n",
    "    * Create these tables.\n",
    "    * You will be able to visualize the database schema. \n",
    "* From then on, you can use natural language to make changes in the database schema and then copy and paste the resulting code in the migration file, and then running the corresponding new migration from the terminal."
   ]
  },
  {
   "cell_type": "markdown",
   "id": "dc141dfd-8db5-4e7f-9ee6-3241a8da224e",
   "metadata": {},
   "source": [
    "## You can now go to the Pricing page and select to start one of the available packages.\n",
    "* You will see Stripe in test mode.\n",
    "* You can test Stripe with the test credit card\n",
    "    * your email\n",
    "    * 4242 4242 4242 4242\n",
    "    * 01/30 or any date in the future\n",
    "    * 999 or any three numbers\n",
    "    * TEST or any name\n",
    "    * United States or any country\n",
    "    * 12345 or any number for zip code\n",
    "* Click on Start Trial\n",
    "    * it will redirect you to the dashboard of the app, where you can see your subscription data."
   ]
  },
  {
   "cell_type": "markdown",
   "id": "1700d542-30cb-4fa0-8902-5fea3fde7a71",
   "metadata": {},
   "source": [
    "## From here on, you can start customizing this template.\n",
    "* This is what we will do in the following notebooks."
   ]
  },
  {
   "cell_type": "code",
   "execution_count": null,
   "id": "4fb6753e-637c-4f80-854e-cf21b6995b66",
   "metadata": {},
   "outputs": [],
   "source": []
  }
 ],
 "metadata": {
  "kernelspec": {
   "display_name": "Python 3 (ipykernel)",
   "language": "python",
   "name": "python3"
  },
  "language_info": {
   "codemirror_mode": {
    "name": "ipython",
    "version": 3
   },
   "file_extension": ".py",
   "mimetype": "text/x-python",
   "name": "python",
   "nbconvert_exporter": "python",
   "pygments_lexer": "ipython3",
   "version": "3.12.5"
  }
 },
 "nbformat": 4,
 "nbformat_minor": 5
}
